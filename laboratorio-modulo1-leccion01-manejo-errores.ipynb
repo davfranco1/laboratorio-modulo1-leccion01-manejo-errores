{
 "cells": [
  {
   "cell_type": "markdown",
   "metadata": {},
   "source": [
    "\n",
    "<div style=\"text-align: center;\">\n",
    "  <img src=\"https://github.com/Hack-io-Data/Imagenes/blob/main/01-LogosHackio/logo_celeste@4x.png?raw=true\" alt=\"esquema\" />\n",
    "</div>\n"
   ]
  },
  {
   "cell_type": "markdown",
   "metadata": {},
   "source": [
    "# Laboratorio de Python: manejo de errores."
   ]
  },
  {
   "cell_type": "markdown",
   "metadata": {},
   "source": [
    "## Ejercicio 1: División con manejo de excepciones\n",
    "\n",
    "Escribe un programa que pida al usuario dos números e intente dividirlos. Si el usuario ingresa un valor no numérico o intenta dividir por cero, maneja esas excepciones de manera adecuada. Asegúrate de mostrar un mensaje indicando si la división fue exitosa o no.\n"
   ]
  },
  {
   "cell_type": "code",
   "execution_count": 3,
   "metadata": {},
   "outputs": [
    {
     "name": "stdout",
     "output_type": "stream",
     "text": [
      "El valor introducido es cero\n"
     ]
    }
   ],
   "source": [
    "try:\n",
    "    n1 = int(input(\"Ingresa un número\"))\n",
    "    n2 = int(input(\"Ingresa otro número\"))\n",
    "    res = n1/n2\n",
    "\n",
    "    print(f\"La división fué exitosa y el resultado es {res}\")\n",
    "\n",
    "except ValueError:\n",
    "    print(\"El valor introducido no es numérico\")\n",
    "\n",
    "except ZeroDivisionError:\n",
    "    print(\"El valor introducido es cero\")"
   ]
  },
  {
   "cell_type": "markdown",
   "metadata": {},
   "source": [
    "## Ejercicio 2: Acceso a archivos\n",
    "\n",
    "Escribe un programa que intente abrir un archivo llamado \"datos.txt\". Si el archivo no existe, captura la excepción y muestra un mensaje de error. Asegúrate de cerrar el archivo correctamente en la sección `finally`.\n"
   ]
  },
  {
   "cell_type": "code",
   "execution_count": 38,
   "metadata": {},
   "outputs": [
    {
     "name": "stdout",
     "output_type": "stream",
     "text": [
      "El archivo no existe\n",
      "El archivo no se ha cerrado\n"
     ]
    }
   ],
   "source": [
    "try:\n",
    "    open(\"datos.txt\")\n",
    "except:\n",
    "    print(\"El archivo no existe\")\n",
    "finally:\n",
    "    try:\n",
    "        \"datos.txt\".close()\n",
    "    except:\n",
    "        print(\"El archivo no se ha cerrado\")"
   ]
  },
  {
   "cell_type": "markdown",
   "metadata": {},
   "source": [
    "## Ejercicio 3: Conversión de cadenas a enteros\n",
    "\n",
    "Escribe un programa que pida una lista de números separados por comas y convierta cada valor a un número entero. Maneja las excepciones para valores que no sean convertibles y asegúrate de informar si la conversión fue exitosa o no.\n"
   ]
  },
  {
   "cell_type": "code",
   "execution_count": 16,
   "metadata": {},
   "outputs": [
    {
     "name": "stdout",
     "output_type": "stream",
     "text": [
      "El número no es convertible a int\n"
     ]
    }
   ],
   "source": [
    "numeros = []\n",
    "try:\n",
    "    while True:\n",
    "        numero = int(input(\"Ingresa un número entera. Parar con 0\"))\n",
    "        numeros.append(numero)\n",
    "        print(\"El número se ha transformado a int\")\n",
    "\n",
    "        if numero == 0:\n",
    "            break\n",
    "\n",
    "except:\n",
    "    print(\"El número no es convertible a int\")"
   ]
  },
  {
   "cell_type": "markdown",
   "metadata": {},
   "source": [
    "#### Ejercicio 4: Cálculo del promedio con manejo de excepciones\n",
    "\n",
    "Escribe una función que reciba una lista de números y calcule su promedio. Si la lista está vacía, lanza una excepción personalizada y maneja el error adecuadamente.\n"
   ]
  },
  {
   "cell_type": "code",
   "execution_count": 26,
   "metadata": {},
   "outputs": [
    {
     "name": "stdout",
     "output_type": "stream",
     "text": [
      "La lista está vacía\n"
     ]
    }
   ],
   "source": [
    "def promedio(numero):\n",
    "    numeros = []\n",
    "    try:\n",
    "        while True:\n",
    "            numero = int(input(\"Ingresa un número entero. Parar con 0\"))\n",
    "            numeros.append(numero)\n",
    "            promedio = sum(numeros)/len(numeros)\n",
    "            print(f\"El promedio de los números es {promedio}\")\n",
    "\n",
    "            if numero == 0:\n",
    "                break    \n",
    "\n",
    "    except:\n",
    "        if not numeros: #No existe\n",
    "            print(\"La lista está vacía\")\n",
    "\n",
    "promedio(numero)"
   ]
  },
  {
   "cell_type": "markdown",
   "metadata": {},
   "source": [
    "#### Ejercicio 5: Conversión segura de números\n",
    "\n",
    "Escribe un programa que convierta una cadena a número flotante e intente realizar una operación aritmética. Si la conversión falla, maneja la excepción y continúa con el flujo normal."
   ]
  },
  {
   "cell_type": "code",
   "execution_count": 33,
   "metadata": {},
   "outputs": [
    {
     "name": "stdout",
     "output_type": "stream",
     "text": [
      "No se ha convertido a flotante\n"
     ]
    }
   ],
   "source": [
    "variable = \"a\"\n",
    "\n",
    "try:\n",
    "    float(variable)\n",
    "    print(f\"El resultado de la operación división es {100/variable}\")\n",
    "\n",
    "except:\n",
    "    print(\"No se ha convertido a flotante\")"
   ]
  },
  {
   "cell_type": "markdown",
   "metadata": {},
   "source": [
    "#### Ejercicio 6: Acceso a claves en diccionarios\n",
    "\n",
    "Escribe un programa que intente acceder a una clave específica en un diccionario. Si la clave no existe, maneja la excepción `KeyError` y muestra un mensaje indicando el problema."
   ]
  },
  {
   "cell_type": "code",
   "execution_count": 42,
   "metadata": {},
   "outputs": [
    {
     "name": "stdout",
     "output_type": "stream",
     "text": [
      "La clave no existe\n"
     ]
    }
   ],
   "source": [
    "dicc_colores = {\"colores\":\"rojo\"}\n",
    "\n",
    "try:\n",
    "    dicc_colores[\"números\"]\n",
    "\n",
    "except:\n",
    "    print(\"La clave no existe\")\n"
   ]
  },
  {
   "cell_type": "markdown",
   "metadata": {},
   "source": [
    "\n",
    "#### Ejercicio 7: Verificación de entradas de usuario\n",
    "\n",
    "Escribe un programa que pida al usuario que introduzca su edad. Si el usuario ingresa un valor no numérico o un valor fuera del rango esperado (por ejemplo, menor que 0 o mayor que 120), maneja las excepciones adecuadamente."
   ]
  },
  {
   "cell_type": "code",
   "execution_count": 59,
   "metadata": {},
   "outputs": [
    {
     "name": "stdout",
     "output_type": "stream",
     "text": [
      "El valor introducido no es un número\n"
     ]
    }
   ],
   "source": [
    "try:\n",
    "    edad = int(input(\"Introduce tu edad\"))\n",
    "    if edad <0 or edad >120:\n",
    "        print(f\"La edad no puede ser menor a 0 o mayor a 120\")\n",
    "    else:\n",
    "        print(f\"Tu edad es {edad}\")\n",
    "\n",
    "except ValueError:\n",
    "    print(f\"El valor introducido no es un número\")"
   ]
  },
  {
   "cell_type": "markdown",
   "metadata": {},
   "source": [
    "#### Ejercicio 8: Extracción de valores de una lista\n",
    "\n",
    "Escribe una función que intente acceder a un índice específico en una lista. Si el índice está fuera del rango, maneja la excepción `IndexError` y muestra un mensaje adecuado.\n"
   ]
  },
  {
   "cell_type": "code",
   "execution_count": 56,
   "metadata": {},
   "outputs": [
    {
     "name": "stdout",
     "output_type": "stream",
     "text": [
      "El índice 3 es 4\n"
     ]
    }
   ],
   "source": [
    "def extraccion_valores(indice):\n",
    "    lista = [1,2,3,4,5]\n",
    "    \n",
    "    try:\n",
    "        print(f\"El índice {indice} es {lista[indice]}\")\n",
    "        \n",
    "    except:\n",
    "        print(\"El índice no existe\")\n",
    "\n",
    "extraccion_valores(3)"
   ]
  }
 ],
 "metadata": {
  "kernelspec": {
   "display_name": "contenido",
   "language": "python",
   "name": "python3"
  },
  "language_info": {
   "codemirror_mode": {
    "name": "ipython",
    "version": 3
   },
   "file_extension": ".py",
   "mimetype": "text/x-python",
   "name": "python",
   "nbconvert_exporter": "python",
   "pygments_lexer": "ipython3",
   "version": "3.9.6"
  }
 },
 "nbformat": 4,
 "nbformat_minor": 2
}
